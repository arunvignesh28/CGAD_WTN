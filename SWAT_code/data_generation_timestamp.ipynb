{
 "cells": [
  {
   "cell_type": "code",
   "execution_count": null,
   "metadata": {},
   "outputs": [],
   "source": [
    "import numpy as np\n",
    "import pandas as pd\n",
    "import torch"
   ]
  },
  {
   "cell_type": "code",
   "execution_count": null,
   "metadata": {},
   "outputs": [],
   "source": [
    "df_attack = pd.read_csv('../SWaT_Dataset/2015/Original_Dataset/SWaT_Dataset_Attack_v0.csv')\n",
    "\n",
    "df_attack"
   ]
  },
  {
   "cell_type": "code",
   "execution_count": null,
   "metadata": {},
   "outputs": [],
   "source": [
    "df_normal = pd.read_csv('../SWaT_Dataset/2015/Original_Dataset/SWaT_Dataset_Normal_v1.csv', skiprows=[0])\n",
    "\n",
    "df_normal"
   ]
  },
  {
   "cell_type": "code",
   "execution_count": null,
   "metadata": {},
   "outputs": [],
   "source": [
    "df_attack.columns = df_attack.columns.str.replace(' ', '')\n",
    "df_normal.columns = df_normal.columns.str.replace(' ', '')"
   ]
  },
  {
   "cell_type": "code",
   "execution_count": null,
   "metadata": {},
   "outputs": [],
   "source": [
    "df_attack['Normal/Attack'] = df_attack['Normal/Attack'].replace('A ttack','Attack')\n",
    "df_attack['Timestamp'][24065] = \" 28/12/2015 4:41:05 PM\"\n",
    "df_attack['Timestamp'] = pd.to_datetime(df_attack['Timestamp'])\n",
    "df_normal['Timestamp'] = pd.to_datetime(df_normal['Timestamp'])\n",
    "\n"
   ]
  },
  {
   "cell_type": "code",
   "execution_count": null,
   "metadata": {},
   "outputs": [],
   "source": [
    "df_timestamp = pd.concat([df_normal['Timestamp'], df_attack['Timestamp']])\n",
    "df_timestamp"
   ]
  },
  {
   "cell_type": "code",
   "execution_count": null,
   "metadata": {},
   "outputs": [],
   "source": [
    "df_normal.drop(columns=['Timestamp'], inplace=True)\n",
    "df_attack.drop(columns=['Timestamp'], inplace=True)"
   ]
  },
  {
   "cell_type": "code",
   "execution_count": null,
   "metadata": {},
   "outputs": [],
   "source": [
    "#attack_data\n",
    "attack_index = [[1754, 2693],\n",
    " [3068, 3510],\n",
    " [4920, 5302],\n",
    " [6459, 6848],\n",
    " [7255, 7450],\n",
    " [7705, 8133],\n",
    " [11410, 12373],\n",
    " [15380, 16100],\n",
    " [73800, 74520],\n",
    " [90685, 90917],\n",
    " [92140, 92570],\n",
    " [93445, 93720],\n",
    " [103092, 103808],\n",
    " [115843, 116101],\n",
    " [116143, 116537],\n",
    " [117000, 117720],\n",
    " [132918, 133380],\n",
    " [142954, 143650],\n",
    " [172268, 172588],\n",
    " [172910, 173521],\n",
    " [198296, 199740],\n",
    " [227828, 263727],\n",
    " [279120, 279240],\n",
    " [280060, 281230],\n",
    " [302653, 303019],\n",
    " [347679, 348279],\n",
    " [361191, 361634],\n",
    " [371479, 371579],\n",
    " [371855, 372335],\n",
    " [389680, 390219],\n",
    " [436541, 437009],\n",
    " [437417, 437697],\n",
    " [438147, 438547],\n",
    " [438621, 438917],\n",
    " [443501, 445190]]"
   ]
  },
  {
   "cell_type": "code",
   "execution_count": null,
   "metadata": {},
   "outputs": [],
   "source": [
    "att_index_arr = df_attack.loc[df_attack[\"Normal/Attack\"] == 'Attack'].index.to_list()\n",
    "\n",
    "countarr = []\n",
    "for i in range(0,len(df_attack),900):\n",
    "    count = 0\n",
    "    for j in range(i, i+900):\n",
    "        if j in att_index_arr:\n",
    "            count+=1\n",
    "    countarr.append(count)\n",
    "\n",
    "print (countarr)        \n",
    "\n",
    "# countarr = [0, 46, 894, 443, 0, 383, 0, 390, 591, 34, 0, 0, 290, 674, 0, 0, 0, 721, 0, 0, 0, 0, 0, 0, 0, 0, 0, 0, 0, 0, 0, 0, 0, 0, 0, 0, 0, 0, 0, 0, 0, 0, 0, 0, 0, 0, 0, 0, 0, 0, 0, 0, 0, 0, 0, 0, 0, 0, 0, 0, 0, 0, 0, 0, 0, 0, 0, 0, 0, 0, 0, 0, 0, 0, 0, 0, 0, 0, 0, 0, 0, 0, 721, 0, 0, 0, 0, 0, 0, 0, 0, 0, 0, 0, 0, 0, 0, 0, 0, 0, 215, 18, 431, 155, 121, 0, 0, 0, 0, 0, 0, 0, 0, 0, 408, 309, 0, 0, 0, 0, 0, 0, 0, 0, 0, 0, 0, 0, 257, 397, 721, 0, 0, 0, 0, 0, 0, 0, 0, 0, 0, 0, 0, 0, 0, 0, 0, 282, 181, 0, 0, 0, 0, 0, 0, 0, 0, 0, 146, 551, 0, 0, 0, 0, 0, 0, 0, 0, 0, 0, 0, 0, 0, 0, 0, 0, 0, 0, 0, 0, 0, 0, 0, 0, 0, 0, 0, 0, 0, 0, 0, 321, 612, 0, 0, 0, 0, 0, 0, 0, 0, 0, 0, 0, 0, 0, 0, 0, 0, 0, 0, 0, 0, 0, 0, 0, 0, 0, 0, 0, 604, 841, 0, 0, 0, 0, 0, 0, 0, 0, 0, 0, 0, 0, 0, 0, 0, 0, 0, 0, 0, 0, 0, 0, 0, 0, 0, 0, 0, 0, 0, 0, 0, 772, 900, 900, 900, 900, 900, 900, 900, 900, 900, 900, 900, 900, 900, 900, 900, 900, 900, 900, 900, 900, 900, 900, 900, 900, 900, 900, 900, 900, 900, 900, 900, 900, 900, 900, 900, 900, 900, 900, 900, 28, 0, 0, 0, 0, 0, 0, 0, 0, 0, 0, 0, 0, 0, 0, 0, 0, 121, 740, 431, 0, 0, 0, 0, 0, 0, 0, 0, 0, 0, 0, 0, 0, 0, 0, 0, 0, 0, 0, 0, 0, 0, 0, 367, 0, 0, 0, 0, 0, 0, 0, 0, 0, 0, 0, 0, 0, 0, 0, 0, 0, 0, 0, 0, 0, 0, 0, 0, 0, 0, 0, 0, 0, 0, 0, 0, 0, 0, 0, 0, 0, 0, 0, 0, 0, 0, 0, 0, 0, 0, 0, 0, 0, 601, 0, 0, 0, 0, 0, 0, 0, 0, 0, 0, 0, 0, 0, 0, 444, 0, 0, 0, 0, 0, 0, 0, 0, 0, 0, 101, 481, 0, 0, 0, 0, 0, 0, 0, 0, 0, 0, 0, 0, 0, 0, 0, 0, 0, 0, 20, 520, 0, 0, 0, 0, 0, 0, 0, 0, 0, 0, 0, 0, 0, 0, 0, 0, 0, 0, 0, 0, 0, 0, 0, 0, 0, 0, 0, 0, 0, 0, 0, 0, 0, 0, 0, 0, 0, 0, 0, 0, 0, 0, 0, 0, 0, 0, 0, 0, 0, 0, 0, 469, 434, 545, 0, 0, 0, 0, 199, 900, 591, 0, 0, 0, 0, 0]"
   ]
  },
  {
   "cell_type": "code",
   "execution_count": null,
   "metadata": {},
   "outputs": [],
   "source": [
    "summ = 0\n",
    "for r in range(len(countarr)):\n",
    "    summ+=countarr[r]\n",
    "    if summ>=27000:\n",
    "        print (r,summ)\n",
    "        break"
   ]
  },
  {
   "cell_type": "code",
   "execution_count": null,
   "metadata": {},
   "outputs": [],
   "source": [
    "df_attack[263728:263728+4500]['Normal/Attack'].info()"
   ]
  },
  {
   "cell_type": "code",
   "execution_count": null,
   "metadata": {},
   "outputs": [],
   "source": [
    "#Training data for attack graph\n",
    "\n",
    "df_attack_pure = df_attack[attack_index[0][0]:attack_index[0][1]+1]\n",
    "for i in range(1, len(attack_index)):\n",
    "    df_attack_pure = pd.concat([df_attack_pure, df_attack[attack_index[i][0]:attack_index[i][1]+1]])\n",
    "\n",
    "df_attack_pure.info()"
   ]
  },
  {
   "cell_type": "code",
   "execution_count": null,
   "metadata": {},
   "outputs": [],
   "source": [
    "df_normal_in_attack = df_attack.drop(df_attack_pure.index.to_list())\n",
    "df_normal_in_attack"
   ]
  },
  {
   "cell_type": "code",
   "execution_count": null,
   "metadata": {},
   "outputs": [],
   "source": [
    "df_attack_pure = df_attack_pure.reset_index(drop = True)\n",
    "df_attack_pure"
   ]
  },
  {
   "cell_type": "code",
   "execution_count": null,
   "metadata": {},
   "outputs": [],
   "source": [
    "df_attack_train_with_normal_bound = pd.concat([df_attack[:1754], df_attack_pure[:27000], df_attack[263728:263728+4500]])"
   ]
  },
  {
   "cell_type": "code",
   "execution_count": null,
   "metadata": {},
   "outputs": [],
   "source": [
    "# df_attack_train_with_normal_bound\n",
    "df_attack[:1754]"
   ]
  },
  {
   "cell_type": "code",
   "execution_count": null,
   "metadata": {},
   "outputs": [],
   "source": [
    "df_normal_train = df_normal[:247500]\n",
    "df_normal_train_timestamp = df_timestamp[:247500].reset_index(drop=True)\n",
    "df_normal_train.insert(0, 'Timestamp', df_normal_train_timestamp)\n"
   ]
  },
  {
   "cell_type": "code",
   "execution_count": null,
   "metadata": {},
   "outputs": [],
   "source": [
    "df_normal_train.drop(columns='Normal/Attack', inplace=True)\n",
    "df_normal_train.to_csv('../SWaT_Dataset/2015/final_csv/normal_data_trainV5.csv')\n",
    "# df_normal_train = df_normal_train.set_index('Timestamp',drop=True)"
   ]
  },
  {
   "cell_type": "code",
   "execution_count": null,
   "metadata": {},
   "outputs": [],
   "source": [
    "df_attack_train = df_attack_train_with_normal_bound.reset_index(drop=True)\n",
    "df_attack_train_timestamp = df_timestamp[247500:247500+33254].reset_index(drop=True)\n",
    "df_attack_train.insert(0, 'Timestamp', df_attack_train_timestamp)"
   ]
  },
  {
   "cell_type": "code",
   "execution_count": null,
   "metadata": {},
   "outputs": [],
   "source": [
    "df_attack_train.drop(columns='Normal/Attack', inplace=True)\n",
    "df_attack_train.to_csv('../SWaT_Dataset/2015/final_csv/attack_data_trainV5.csv')"
   ]
  },
  {
   "cell_type": "code",
   "execution_count": null,
   "metadata": {},
   "outputs": [],
   "source": [
    "df_attack_train"
   ]
  },
  {
   "cell_type": "code",
   "execution_count": null,
   "metadata": {},
   "outputs": [],
   "source": [
    "df_test_remaining_normal = df_normal[247500:]\n",
    "df_test_remaining_normal"
   ]
  },
  {
   "cell_type": "code",
   "execution_count": null,
   "metadata": {},
   "outputs": [],
   "source": [
    "# index_to_be_removed = [[0, 2693],\n",
    "#  [3068, 3510],\n",
    "#  [4920, 5302],\n",
    "#  [6459, 6848],\n",
    "#  [7255, 7450],\n",
    "#  [7705, 8133],\n",
    "#  [11410, 12373],\n",
    "#  [15380, 16100],\n",
    "#  [73800, 74520],\n",
    "#  [90685, 90917],\n",
    "#  [92140, 92570],\n",
    "#  [93445, 93720],\n",
    "#  [103092, 103808],\n",
    "#  [115843, 116101],\n",
    "#  [116143, 116537],\n",
    "#  [117000, 117720],\n",
    "#  [132918, 133380],\n",
    "#  [142954, 143650],\n",
    "#  [172268, 172588],\n",
    "#  [172910, 173521],\n",
    "#  [198296, 199740],\n",
    "#  [227828, 268227],\n",
    "#  [279120, 279240],\n",
    "#  [280060, 281230],\n",
    "#  [302653, 303019],\n",
    "#  [347679, 348279],\n",
    "#  [361191, 361634],\n",
    "#  [371479, 371579],\n",
    "#  [371855, 372335],\n",
    "#  [389680, 390219],\n",
    "#  [436541, 437009],\n",
    "#  [437417, 437697],\n",
    "#  [438147, 438547],\n",
    "#  [438621, 438917],\n",
    "#  [443501, 445190]]\n",
    "df_remove = pd.concat([df_normal_in_attack[:1754], df_normal_in_attack[263728:268228]])\n",
    "df_test_remaining_normal_in_attack = df_normal_in_attack.drop(df_remove.index.to_list())\n",
    "\n",
    "df_test_remaining_normal = pd.concat([df_test_remaining_normal, df_test_remaining_normal_in_attack]).reset_index(drop=True)\n",
    "\n",
    "df_test_remaining_normal"
   ]
  },
  {
   "cell_type": "code",
   "execution_count": null,
   "metadata": {},
   "outputs": [],
   "source": [
    "df_test_remaining_attack = df_attack_pure[27000:].copy().reset_index(drop=True)\n",
    "df_test_remaining_attack"
   ]
  },
  {
   "cell_type": "code",
   "execution_count": null,
   "metadata": {},
   "outputs": [],
   "source": [
    "import random\n",
    "\n",
    "random_index = [random.randint(0, 332500) for _ in range(12)]\n",
    "\n",
    "random_index.sort()\n",
    "\n",
    "random_index\n",
    "\n",
    "# chunks_df_attack_train = [df_test_remaining_attack.iloc[i:i+600] for i in range(0, len(df_test_remaining_attack)//2, 600)]\n",
    "\n",
    "# df_test = df_test_remaining_normal.copy()\n",
    "\n",
    "# for j, index in enumerate(random_index):\n",
    "#     print (j, index)\n",
    "#     df_test = pd.concat([df_test.iloc[:index], chunks_df_attack_train[i], df_test.iloc[index:]], ignore_index=True)\n",
    "\n",
    "\n",
    "# att_idx = 0\n",
    "\n",
    "# df_test = pd.concat([df_test_remaining_normal[:random_index[0]], df_test_remaining_attack[att_idx:att_idx+600], df_test_remaining_normal[random_index[0]:]])\n",
    "# att_idx = 600\n",
    "\n",
    "# for i in random_index[1:]:\n",
    "#     df_test = pd.concat([df_test, df_test_remaining_normal[:i], df_test_remaining_attack[att_idx:att_idx+600], df_test_remaining_normal[i:]])\n",
    "#     att_idx += 600\n"
   ]
  },
  {
   "cell_type": "code",
   "execution_count": null,
   "metadata": {},
   "outputs": [],
   "source": [
    "random_index2 = [random.randint(332500, 636000) for _ in range(8)]\n",
    "\n",
    "random_index2.sort()\n",
    "\n",
    "random_index2\n"
   ]
  },
  {
   "cell_type": "code",
   "execution_count": null,
   "metadata": {},
   "outputs": [],
   "source": [
    "df_test = pd.concat([df_test_remaining_normal[:9261], df_test_remaining_attack[:600], df_test_remaining_normal[9261:12312],\n",
    "                      df_test_remaining_normal[12312:21141], df_test_remaining_attack[600:1200], df_test_remaining_normal[21141:59707],\n",
    "                      df_test_remaining_normal[59707:79970], df_test_remaining_attack[1200:1800], df_test_remaining_normal[79970:97052],\n",
    "                        df_test_remaining_normal[97052:118111], df_test_remaining_attack[1800:2400], df_test_remaining_normal[118111:224524],\n",
    "                        df_test_remaining_normal[224524:239425], df_test_remaining_attack[2400:3000], df_test_remaining_normal[239425:251291],\n",
    "                        df_test_remaining_normal[251291:274237], df_test_remaining_attack[3000:3600], df_test_remaining_normal[274237:323357],\n",
    "                        df_test_remaining_attack[3600:4200], df_test_remaining_normal[323357:342181], df_test_remaining_attack[4200:5300],\n",
    "                        df_test_remaining_normal[342181:344300], df_test_remaining_attack[5300:12200], df_test_remaining_normal[344300:347599],\n",
    "                        df_test_remaining_attack[12200:14200], df_test_remaining_normal[347599:364351], df_test_remaining_attack[14200:22200], \n",
    "                        df_test_remaining_normal[364351:394913], df_test_remaining_attack[22200:22450], df_test_remaining_normal[394913:439921], \n",
    "                        df_test_remaining_attack[22450:23350], df_test_remaining_normal[439921:581242], df_test_remaining_attack[23350:27000], \n",
    "                        df_test_remaining_normal[581242:593679], df_test_remaining_attack[27000:], df_test_remaining_normal[593679:]])\n",
    "\n",
    "df_test"
   ]
  },
  {
   "cell_type": "code",
   "execution_count": null,
   "metadata": {},
   "outputs": [],
   "source": [
    "df_test_timestamp = df_timestamp[280754:].reset_index(drop=True)\n",
    "df_test.insert(0, 'Timestamp', df_test_timestamp)"
   ]
  },
  {
   "cell_type": "code",
   "execution_count": null,
   "metadata": {},
   "outputs": [],
   "source": [
    "for i in random_index[1:]:\n",
    "    df_test_first = df_test_remaining_normal[:i]\n",
    "    df_test = pd.concat([df_test, df_test_remaining_normal[:i], df_test_remaining_attack[att_idx:att_idx+600], df_test_remaining_normal[i:]])\n",
    "    att_idx += 600"
   ]
  },
  {
   "cell_type": "code",
   "execution_count": null,
   "metadata": {},
   "outputs": [],
   "source": [
    "df_attack_train"
   ]
  },
  {
   "cell_type": "code",
   "execution_count": null,
   "metadata": {},
   "outputs": [],
   "source": [
    "df_attack_pure_half = df_attack[1754:2694]\n",
    "for i in range(1, len(attack_index)//2):\n",
    "    df_attack_pure_half = pd.concat([df_attack_pure_half, df_attack[attack_index[i][0]:attack_index[i][1]+1]])\n",
    "\n",
    "df_attack_pure_half.index\n"
   ]
  },
  {
   "cell_type": "code",
   "execution_count": null,
   "metadata": {},
   "outputs": [],
   "source": [
    "\n",
    "df_attack_pure_shuffled = df_attack_pure_half.sample(frac=1).reset_index(drop=True)\n",
    "df_attack_pure_shuffled"
   ]
  },
  {
   "cell_type": "code",
   "execution_count": null,
   "metadata": {},
   "outputs": [],
   "source": [
    "df_normal_rest_attack_csv = df_attack[:135000].drop(df_attack_pure_half.index.tolist()).reset_index(drop=True)\n",
    "        \n",
    "df_normal_rest_normal_csv = df_normal[247500:].reset_index(drop=True)\n",
    "\n",
    "df_normal_pure = pd.concat([df_normal_rest_attack_csv, df_normal_rest_normal_csv], ignore_index=True)\n",
    "\n",
    "df_normal_pure_shuffled = df_normal_pure.sample(frac=1).reset_index(drop=True)\n",
    "df_normal_pure_shuffled \n"
   ]
  },
  {
   "cell_type": "code",
   "execution_count": null,
   "metadata": {},
   "outputs": [],
   "source": [
    "df_attack_train = pd.concat([df_normal_pure_shuffled[:3000], df_attack_pure_shuffled, df_normal_pure_shuffled[4000:7000]]).reset_index(drop=True)\n",
    "\n",
    "df_attack_train.info()"
   ]
  },
  {
   "cell_type": "code",
   "execution_count": null,
   "metadata": {},
   "outputs": [],
   "source": [
    "df_attack_train_timestamp = df_timestamp[247500:262182].reset_index(drop=True)\n",
    "df_attack_train_timestamp"
   ]
  },
  {
   "cell_type": "code",
   "execution_count": null,
   "metadata": {},
   "outputs": [],
   "source": [
    "df_attack_train.insert(0, 'Timestamp', df_attack_train_timestamp)\n",
    "df_attack_train\n"
   ]
  },
  {
   "cell_type": "code",
   "execution_count": null,
   "metadata": {},
   "outputs": [],
   "source": [
    "df_attack_train = df_attack_train.reset_index(drop=True)\n",
    "df_attack_train.drop(columns=\"Normal/Attack\", inplace=True)\n",
    "df_attack_train.to_csv('../SWaT_Dataset/2015/Generated_csv/attack_data_trainV2.csv')"
   ]
  },
  {
   "cell_type": "code",
   "execution_count": null,
   "metadata": {},
   "outputs": [],
   "source": [
    "df_attack_train"
   ]
  },
  {
   "cell_type": "code",
   "execution_count": null,
   "metadata": {},
   "outputs": [],
   "source": [
    "df_test = pd.concat([df_attack[135000:], df_normal_pure_shuffled[8000:8081]]).reset_index(drop=True)\n",
    "df_test.info()"
   ]
  },
  {
   "cell_type": "code",
   "execution_count": null,
   "metadata": {},
   "outputs": [],
   "source": [
    "df_test_timestamp = df_timestamp[262800:577800].reset_index(drop=True)\n",
    "df_test.insert(0, 'Timestamp', df_test_timestamp)\n",
    "df_test"
   ]
  },
  {
   "cell_type": "code",
   "execution_count": null,
   "metadata": {},
   "outputs": [],
   "source": [
    "df_test.to_csv('../SWaT_Dataset/2015/Generated_csv/test_dataV2.csv')"
   ]
  },
  {
   "cell_type": "code",
   "execution_count": null,
   "metadata": {},
   "outputs": [],
   "source": [
    "att_end, norm_last_end, len(df_normal_pure_shuffled), len(df_attack_pure_shuffled), df_attack_train.index"
   ]
  },
  {
   "cell_type": "code",
   "execution_count": null,
   "metadata": {},
   "outputs": [],
   "source": [
    "df_test_all_attack = []\n",
    "\n",
    "normal_test_first_start = 9300\n",
    "normal_test_first_end = 9450\n",
    "normal_test_last_start = 9450\n",
    "normal_test_last_end = 9600\n",
    "\n",
    "for i in range(18600,54600, 600):\n",
    "    df_test = []\n",
    "    df_test = pd.concat([df_normal_pure_shuffled[normal_test_first_start:normal_test_first_end], df_attack_pure_shuffled[i:i+600], df_normal_pure_shuffled[normal_test_last_start:normal_test_last_end]])\n",
    "    df_test_all_attack.append(df_test)\n",
    "\n",
    "    normal_test_first_start = normal_test_last_end\n",
    "    normal_test_first_end = normal_test_first_start+150\n",
    "    normal_test_last_start = normal_test_first_end\n",
    "    normal_test_last_end = normal_test_last_start+150\n",
    "\n",
    "normal_test_first_start"
   ]
  },
  {
   "cell_type": "code",
   "execution_count": null,
   "metadata": {},
   "outputs": [],
   "source": [
    "df_normal_pure_shuffled_test = df_normal_pure_shuffled[27300:].reset_index(drop=True)\n",
    "df_normal_pure_shuffled_test.drop(columns='Normal/Attack', inplace=True)\n",
    "\n",
    "df_normal_pure_shuffled_test['IsAttack'] = 0\n",
    "\n",
    "df_normal_pure_shuffled_test"
   ]
  },
  {
   "cell_type": "code",
   "execution_count": null,
   "metadata": {},
   "outputs": [],
   "source": [
    "df_test_all_attack_labels = []\n",
    "for df_attack_test_segs in df_test_all_attack:\n",
    "    df_attack_test_segs.drop(columns='Normal/Attack', inplace=True)\n",
    "    df_attack_test_segs['IsAttack'] = 1\n",
    "    df_test_all_attack_labels.append(df_attack_test_segs)\n",
    "\n",
    "df_test_all_attack_labels[0]\n"
   ]
  },
  {
   "cell_type": "code",
   "execution_count": null,
   "metadata": {},
   "outputs": [],
   "source": [
    "import random\n",
    "i = 0\n",
    "while (i<len(df_test_all_attack_labels)):\n",
    "    random_idx = random.randint(1,683)\n",
    "    insertion_idx = random_idx * 900\n",
    "    df_1 = df_normal_pure_shuffled_test[:insertion_idx]\n",
    "    df_2 = df_normal_pure_shuffled_test[insertion_idx:]\n",
    "    df_shuffled_test_final = pd.concat([df_1,df_test_all_attack_labels[i], df_2])\n",
    "    df_normal_pure_shuffled_test = df_shuffled_test_final\n",
    "    i+=1\n",
    "\n",
    "df_shuffled_test_final = df_shuffled_test_final.reset_index(drop=True)\n"
   ]
  },
  {
   "cell_type": "code",
   "execution_count": null,
   "metadata": {},
   "outputs": [],
   "source": [
    "df_shuffled_test_final.loc[df_shuffled_test_final['IsAttack'] == 1]"
   ]
  },
  {
   "cell_type": "code",
   "execution_count": null,
   "metadata": {},
   "outputs": [],
   "source": [
    "att_idx_in_test_final = df_shuffled_test_final.loc[df_shuffled_test_final['IsAttack'] == 1].index.tolist()\n",
    "att_idx_start_test_final_segs = []\n",
    "for i in att_idx_in_test_final:\n",
    "    if i-1 not in att_idx_in_test_final:\n",
    "        att_idx_start_test_final_segs.append(i)\n",
    "\n",
    "att_idx_start_test_final_segs"
   ]
  },
  {
   "cell_type": "code",
   "execution_count": null,
   "metadata": {},
   "outputs": [],
   "source": [
    "df_test_timestamp = df_timestamp[274500:]\n",
    "df_test_timestamp = df_test_timestamp.reset_index(drop=True)\n",
    "df_test_timestamp\n"
   ]
  },
  {
   "cell_type": "code",
   "execution_count": null,
   "metadata": {},
   "outputs": [],
   "source": [
    "df_shuffled_test_final.insert(0, 'Timestamp', df_test_timestamp[:669498])"
   ]
  },
  {
   "cell_type": "code",
   "execution_count": null,
   "metadata": {},
   "outputs": [],
   "source": [
    "df_shuffled_test_final.to_csv('../SWaT_Dataset/2015/Generated_csv/test_data_v1.csv')"
   ]
  }
 ],
 "metadata": {
  "kernelspec": {
   "display_name": "pytorch",
   "language": "python",
   "name": "python3"
  },
  "language_info": {
   "codemirror_mode": {
    "name": "ipython",
    "version": 3
   },
   "file_extension": ".py",
   "mimetype": "text/x-python",
   "name": "python",
   "nbconvert_exporter": "python",
   "pygments_lexer": "ipython3",
   "version": "3.10.4"
  }
 },
 "nbformat": 4,
 "nbformat_minor": 2
}
